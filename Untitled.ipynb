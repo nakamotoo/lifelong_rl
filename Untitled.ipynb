{
 "cells": [
  {
   "cell_type": "code",
   "execution_count": 3,
   "id": "4458c053",
   "metadata": {},
   "outputs": [],
   "source": [
    "import torch"
   ]
  },
  {
   "cell_type": "code",
   "execution_count": 4,
   "id": "f7557f06",
   "metadata": {},
   "outputs": [],
   "source": [
    "def get_env_states(snapshot_name):\n",
    "    with open(snapshot_name + '.pt', 'rb') as f:\n",
    "        snapshot = torch.load(f, map_location='cpu')\n",
    "        env_states = snapshot['replay_buffer/env_states']\n",
    "#         env_states = snapshot['replay_buffer/observations']\n",
    "    return env_states"
   ]
  },
  {
   "cell_type": "code",
   "execution_count": 5,
   "id": "7a868b2b",
   "metadata": {},
   "outputs": [
    {
     "name": "stdout",
     "output_type": "stream",
     "text": [
      "ls: cannot access 'data/06-29-dads-hopper/06-29-dads-hopper_2021_06_29_19_48_19_0000--s-33537737/': No such file or directory\r\n"
     ]
    }
   ],
   "source": [
    "!ls data/06-29-dads-hopper/06-29-dads-hopper_2021_06_29_19_48_19_0000--s-33537737/"
   ]
  },
  {
   "cell_type": "code",
   "execution_count": 6,
   "id": "10c92c33",
   "metadata": {},
   "outputs": [],
   "source": [
    "snapshot_name = '/data/local/mitsuhiko/lifelong_rl/01-07-kbit-memory-cheetah/01-07-kbit-memory-cheetah_2022_01_07_19_39_26_0000--s-66675450/itr_9999'\n",
    "# snapshot_name = './data/06-29-dads-hopper/06-29-dads-hopper_2021_06_29_21_55_32_0000--s-20996130/itr_9'"
   ]
  },
  {
   "cell_type": "code",
   "execution_count": 7,
   "id": "26e072b3",
   "metadata": {},
   "outputs": [],
   "source": [
    "with open(snapshot_name + '.pt', 'rb') as f:\n",
    "    snapshot = torch.load(f, map_location='cpu')\n",
    "#     env_states = snapshot['replay_buffer/env_states"
   ]
  },
  {
   "cell_type": "code",
   "execution_count": 10,
   "id": "7bc8b34b",
   "metadata": {},
   "outputs": [
    {
     "data": {
      "text/plain": [
       "dict_keys(['trainer/control_policy', 'trainer/discriminator', 'trainer/policy_trainer/policy', 'trainer/policy_trainer/qf1', 'trainer/policy_trainer/qf2', 'trainer/policy_trainer/target_qf1', 'trainer/policy_trainer/target_qf2', 'exploration/env', 'exploration/policy', 'evaluation/env', 'evaluation/policy', 'replay_buffer/observations', 'replay_buffer/actions', 'replay_buffer/rewards', 'replay_buffer/terminals', 'replay_buffer/next_observations', 'replay_buffer/env_infos', 'replay_buffer/meta_infos', 'replay_buffer/body_xpos', 'replay_buffer/qpos', 'replay_buffer/env_states'])"
      ]
     },
     "execution_count": 10,
     "metadata": {},
     "output_type": "execute_result"
    }
   ],
   "source": [
    "snapshot.keys()"
   ]
  },
  {
   "cell_type": "code",
   "execution_count": 12,
   "id": "62625ea0",
   "metadata": {},
   "outputs": [
    {
     "data": {
      "text/plain": [
       "array([[ 0.00269261,  0.08260944,  0.06459133, ..., -0.05913904,\n",
       "         0.01843038, -0.00653631],\n",
       "       [ 0.00499148,  0.07747939,  0.4143215 , ...,  0.25327856,\n",
       "         0.17884648,  0.1272327 ],\n",
       "       [-0.04248083,  0.07037412,  0.59486598, ...,  0.64947441,\n",
       "         0.32590948, -0.02967786],\n",
       "       ...,\n",
       "       [-0.12685915,  0.07126089,  0.54337208, ...,  0.15630758,\n",
       "        -0.10069314, -0.42313874],\n",
       "       [-0.07150751,  0.01981313,  0.52213992, ..., -0.2063831 ,\n",
       "         0.27229504, -0.14990842],\n",
       "       [-0.04125521,  0.01389222,  0.47482126, ..., -0.43408967,\n",
       "         0.00268317,  0.18700761]])"
      ]
     },
     "execution_count": 12,
     "metadata": {},
     "output_type": "execute_result"
    }
   ],
   "source": [
    "snapshot[\"replay_buffer/observations\"]"
   ]
  },
  {
   "cell_type": "code",
   "execution_count": null,
   "id": "d81fb1ef",
   "metadata": {},
   "outputs": [],
   "source": []
  }
 ],
 "metadata": {
  "kernelspec": {
   "display_name": "Python 3",
   "language": "python",
   "name": "python3"
  },
  "language_info": {
   "codemirror_mode": {
    "name": "ipython",
    "version": 3
   },
   "file_extension": ".py",
   "mimetype": "text/x-python",
   "name": "python",
   "nbconvert_exporter": "python",
   "pygments_lexer": "ipython3",
   "version": "3.7.10"
  }
 },
 "nbformat": 4,
 "nbformat_minor": 5
}
