{
 "cells": [
  {
   "cell_type": "code",
   "execution_count": 1,
   "id": "4458c053",
   "metadata": {},
   "outputs": [],
   "source": [
    "import torch"
   ]
  },
  {
   "cell_type": "code",
   "execution_count": 4,
   "id": "f7557f06",
   "metadata": {},
   "outputs": [],
   "source": [
    "def get_env_states(snapshot_name):\n",
    "    with open(snapshot_name + '.pt', 'rb') as f:\n",
    "        snapshot = torch.load(f, map_location='cpu')\n",
    "        env_states = snapshot['replay_buffer/env_states']\n",
    "#         env_states = snapshot['replay_buffer/observations']\n",
    "    return env_states"
   ]
  },
  {
   "cell_type": "code",
   "execution_count": 5,
   "id": "7a868b2b",
   "metadata": {},
   "outputs": [
    {
     "name": "stdout",
     "output_type": "stream",
     "text": [
      "ls: cannot access 'data/06-29-dads-hopper/06-29-dads-hopper_2021_06_29_19_48_19_0000--s-33537737/': No such file or directory\r\n"
     ]
    }
   ],
   "source": [
    "!ls data/06-29-dads-hopper/06-29-dads-hopper_2021_06_29_19_48_19_0000--s-33537737/"
   ]
  },
  {
   "cell_type": "code",
   "execution_count": 6,
   "id": "10c92c33",
   "metadata": {},
   "outputs": [],
   "source": [
    "snapshot_name = '/data/local/mitsuhiko/lifelong_rl/01-07-kbit-memory-cheetah/01-07-kbit-memory-cheetah_2022_01_07_19_39_26_0000--s-66675450/itr_9999'\n",
    "# snapshot_name = './data/06-29-dads-hopper/06-29-dads-hopper_2021_06_29_21_55_32_0000--s-20996130/itr_9'"
   ]
  },
  {
   "cell_type": "code",
   "execution_count": 7,
   "id": "26e072b3",
   "metadata": {},
   "outputs": [],
   "source": [
    "with open(snapshot_name + '.pt', 'rb') as f:\n",
    "    snapshot = torch.load(f, map_location='cpu')\n",
    "#     env_states = snapshot['replay_buffer/env_states"
   ]
  },
  {
   "cell_type": "code",
   "execution_count": 10,
   "id": "7bc8b34b",
   "metadata": {},
   "outputs": [
    {
     "data": {
      "text/plain": [
       "dict_keys(['trainer/control_policy', 'trainer/discriminator', 'trainer/policy_trainer/policy', 'trainer/policy_trainer/qf1', 'trainer/policy_trainer/qf2', 'trainer/policy_trainer/target_qf1', 'trainer/policy_trainer/target_qf2', 'exploration/env', 'exploration/policy', 'evaluation/env', 'evaluation/policy', 'replay_buffer/observations', 'replay_buffer/actions', 'replay_buffer/rewards', 'replay_buffer/terminals', 'replay_buffer/next_observations', 'replay_buffer/env_infos', 'replay_buffer/meta_infos', 'replay_buffer/body_xpos', 'replay_buffer/qpos', 'replay_buffer/env_states'])"
      ]
     },
     "execution_count": 10,
     "metadata": {},
     "output_type": "execute_result"
    }
   ],
   "source": [
    "snapshot.keys()"
   ]
  },
  {
   "cell_type": "code",
   "execution_count": 12,
   "id": "62625ea0",
   "metadata": {},
   "outputs": [
    {
     "data": {
      "text/plain": [
       "array([[ 0.00269261,  0.08260944,  0.06459133, ..., -0.05913904,\n",
       "         0.01843038, -0.00653631],\n",
       "       [ 0.00499148,  0.07747939,  0.4143215 , ...,  0.25327856,\n",
       "         0.17884648,  0.1272327 ],\n",
       "       [-0.04248083,  0.07037412,  0.59486598, ...,  0.64947441,\n",
       "         0.32590948, -0.02967786],\n",
       "       ...,\n",
       "       [-0.12685915,  0.07126089,  0.54337208, ...,  0.15630758,\n",
       "        -0.10069314, -0.42313874],\n",
       "       [-0.07150751,  0.01981313,  0.52213992, ..., -0.2063831 ,\n",
       "         0.27229504, -0.14990842],\n",
       "       [-0.04125521,  0.01389222,  0.47482126, ..., -0.43408967,\n",
       "         0.00268317,  0.18700761]])"
      ]
     },
     "execution_count": 12,
     "metadata": {},
     "output_type": "execute_result"
    }
   ],
   "source": [
    "snapshot[\"replay_buffer/observations\"]"
   ]
  },
  {
   "cell_type": "code",
   "execution_count": null,
   "id": "d81fb1ef",
   "metadata": {},
   "outputs": [],
   "source": []
  },
  {
   "cell_type": "code",
   "execution_count": 2,
   "id": "2b5bee46",
   "metadata": {},
   "outputs": [],
   "source": [
    "log_probs =  torch.Tensor([-9265.4268, -9271.8506, -9252.8994, -9278.9023, -9274.3525, -9274.6279,\n",
    "        -9273.0889, -9271.3418, -9271.1436, -9288.6035, -9268.4102, -9255.3047,\n",
    "        -9274.6465, -9273.9102, -9260.0020, -9265.0000, -9274.1406, -9266.0420,\n",
    "        -9274.1641, -9267.1504, -9281.0176, -9269.6514, -9267.4941, -9253.1562,\n",
    "        -9267.4580, -9265.0625, -9268.8877, -9273.4062, -9264.2666, -9256.8555,\n",
    "        -9274.2109, -9268.5605, -9268.2344, -9269.5137, -9278.9453, -9264.3574,\n",
    "        -9267.9766, -9274.0488, -9269.0635, -9253.4980, -9261.4355, -9275.1748,\n",
    "        -9273.8799, -9268.7295, -9272.0195, -9273.2383, -9270.8418, -9268.1553,\n",
    "        -9270.0684, -9264.3691, -9278.3672, -9266.5801,  -222.5760, -9270.5742,\n",
    "        -9270.1768, -9272.9062, -9262.0508, -9271.9873, -9270.4316, -9271.6953,\n",
    "        -9271.2969, -9258.6289, -9274.1641, -9272.9707, -9260.6406, -9270.3135,\n",
    "        -9272.8037, -9269.7676, -9270.1777, -9273.3457, -9271.4180, -9270.3262,\n",
    "        -9268.1543, -9258.8271, -9261.1367, -9262.7900, -9264.7773, -9267.3232,\n",
    "        -9266.5830, -9267.3223, -9267.2715, -9274.6074, -9271.3301, -9258.2998,\n",
    "        -9269.6533, -9259.9648, -9258.3760, -9262.3965, -9271.0312, -9270.3838,\n",
    "        -9269.5703, -9262.3906, -9264.3496, -9269.9102, -9264.5938, -9264.4238,\n",
    "        -9272.4004, -9266.7441, -9276.2559, -9261.5996, -9254.0596, -9275.3926,\n",
    "        -9264.3438, -9271.1172, -9268.2451, -9278.9453, -9271.4180, -9264.8828,\n",
    "        -9271.3711, -9254.0596, -9264.2861, -9259.1348, -9273.0889, -9268.6309,\n",
    "        -9270.3457, -9273.1895, -9265.7715, -9268.2539, -9239.5977, -9260.0615,\n",
    "        -9267.5293, -9282.4004, -9274.6074, -9269.7676, -9267.3105, -9273.9883,\n",
    "        -9272.1318, -9272.7188, -9269.1455, -9274.2109, -9264.6270, -9272.1182,\n",
    "        -9268.6719, -9266.8838, -9266.5010, -9270.4883, -9273.8428, -9273.4180,\n",
    "        -9273.0508, -9255.1211, -9269.4688, -9277.4482, -9262.4980, -9266.2227,\n",
    "        -9251.7949, -9252.9766, -9269.1709, -9267.4580, -9276.0459, -9258.8730,\n",
    "        -9273.4180, -9273.1855, -9273.4707, -9272.9160, -9277.4365, -9268.9639,\n",
    "        -9257.0850, -9272.6514, -9255.1533, -9258.5254, -9279.5176, -9261.5996,\n",
    "        -9275.3730, -9268.1865,  -302.4100, -9267.4746, -9273.9414, -9269.0273,\n",
    "        -9271.2510, -9270.6025, -9269.7266, -9271.0869, -9268.6738, -9269.7490,\n",
    "        -9276.1914, -9279.2617, -9260.2090, -9269.6289, -9270.4883, -9267.0078,\n",
    "        -9265.5430, -9274.0488, -9270.8291, -9277.1484, -9263.5293, -9266.5352,\n",
    "        -9269.6152, -9263.6621, -9272.7188, -9260.5586, -9280.1670, -9272.6221,\n",
    "        -9264.2051, -9273.5820, -9268.6953, -9277.5410, -9273.4707, -9268.7822,\n",
    "        -9264.3857, -9263.0898, -9262.6504, -9268.1543, -9270.7480, -9266.5410,\n",
    "        -9219.6660, -9267.1719, -9252.3496, -9269.1709, -9278.4258, -9259.4180,\n",
    "        -9267.4609, -9269.8076, -9268.3145, -9268.6318, -9264.0195, -9275.5508,\n",
    "        -9269.4531, -9264.0596, -9270.4316, -9266.5605, -9269.5400, -9254.5488,\n",
    "        -9273.4160, -9259.0088, -9269.8506, -9266.5879, -9280.8359, -9268.3906,\n",
    "        -9262.4980, -9265.8037, -9273.7646, -9274.0176, -9266.7266, -9262.8291,\n",
    "        -9252.3125, -9272.7100, -9268.8350, -9255.3057, -9266.0928, -9270.7480,\n",
    "        -9264.9609, -9274.5645,  -302.4100, -9269.5137, -9274.9932, -9271.5254,\n",
    "        -9268.9551, -9256.8555, -9267.2021, -9275.7646, -9271.5254, -9264.9609,\n",
    "        -9274.7998, -9265.1621, -9274.1406, -9268.3145])"
   ]
  },
  {
   "cell_type": "code",
   "execution_count": 5,
   "id": "dce9d86b",
   "metadata": {},
   "outputs": [],
   "source": [
    "log_probs_old = torch.Tensor([-9361.4590, -9367.6523, -9348.9004, -9374.7422, -9370.1309, -9370.5498,\n",
    "        -9369.0078, -9367.1885, -9366.9805, -9384.4697, -9364.4414, -9351.4414,\n",
    "        -9370.4893, -9369.7998, -9355.9531, -9360.9541, -9369.9551, -9361.9355,\n",
    "        -9370.0010, -9363.0381, -9376.8906, -9365.5332, -9363.3770, -9349.1211,\n",
    "        -9363.3574, -9360.9492, -9364.8516, -9369.3623, -9360.1191, -9352.8047,\n",
    "        -9370.1211, -9364.5254, -9364.1279, -9365.3457, -9374.8213, -9360.3369,\n",
    "        -9363.9082, -9369.9443, -9365.0059, -9349.5430, -9357.4648, -9371.0605,\n",
    "        -9369.8047, -9364.5879, -9367.8555, -9369.0996, -9366.7500, -9364.0986,\n",
    "        -9365.9033, -9360.3164, -9374.2480, -9362.5322,  -214.7283, -9366.4307,\n",
    "        -9366.0234, -9368.7773, -9358.0459, -9367.8145, -9366.4062, -9367.6289,\n",
    "        -9367.1611, -9354.5801, -9370.0010, -9368.8086, -9356.5947, -9366.2705,\n",
    "        -9368.6943, -9365.6250, -9366.0303, -9369.2617, -9367.3203, -9366.2070,\n",
    "        -9364.0654, -9354.8184, -9357.0459, -9358.7773, -9360.7119, -9363.2793,\n",
    "        -9362.6211, -9363.2314, -9363.3008, -9370.5723, -9367.2402, -9354.3486,\n",
    "        -9365.4951, -9355.8916, -9354.3896, -9358.2734, -9366.9043, -9366.3096,\n",
    "        -9365.4785, -9358.4453, -9360.2568, -9365.8682, -9360.6006, -9360.4453,\n",
    "        -9368.3105, -9362.6914, -9372.1455, -9357.5498, -9350.1768, -9371.2627,\n",
    "        -9360.2363, -9366.9863, -9364.1094, -9374.8213, -9367.3203, -9360.7910,\n",
    "        -9367.3125, -9350.1768, -9360.1787, -9355.1416, -9369.0078, -9364.6895,\n",
    "        -9366.3770, -9369.0156, -9361.6953, -9364.2080, -9335.6660, -9356.0859,\n",
    "        -9363.4277, -9378.2920, -9370.5723, -9365.6250, -9363.2285, -9369.9629,\n",
    "        -9368.0225, -9368.7695, -9365.1221, -9370.1211, -9360.5801, -9368.0342,\n",
    "        -9364.5127, -9362.7109, -9362.4922, -9366.4551, -9369.6855, -9369.3867,\n",
    "        -9368.9277, -9351.1660, -9365.4473, -9373.3994, -9358.4434, -9362.2002,\n",
    "        -9347.8828, -9348.9980, -9365.0752, -9363.3574, -9371.8730, -9354.8574,\n",
    "        -9369.3867, -9369.0430, -9369.3203, -9368.7939, -9373.2539, -9364.7637,\n",
    "        -9353.0527, -9368.4893, -9351.1396, -9354.5098, -9375.4453, -9357.5498,\n",
    "        -9371.2891, -9364.0820,  -294.0810, -9363.4131, -9369.8438, -9364.8945,\n",
    "        -9367.1436, -9366.5273, -9365.5762, -9367.1152, -9364.6660, -9365.5879,\n",
    "        -9372.0293, -9375.1504, -9356.1797, -9365.5352, -9366.4551, -9362.8428,\n",
    "        -9361.4473, -9369.9443, -9366.7012, -9373.0742, -9359.4805, -9362.5186,\n",
    "        -9365.4805, -9359.5566, -9368.7695, -9356.5938, -9375.9141, -9368.4541,\n",
    "        -9360.1240, -9369.3545, -9364.5742, -9373.5107, -9369.3203, -9364.6680,\n",
    "        -9360.2979, -9359.0186, -9358.6523, -9364.0293, -9366.5869, -9362.4580,\n",
    "        -9315.6543, -9363.0957, -9348.4746, -9365.0752, -9374.3740, -9355.4004,\n",
    "        -9363.5254, -9365.7051, -9364.2383, -9364.6416, -9359.9365, -9371.4121,\n",
    "        -9365.3027, -9360.0088, -9366.4062, -9362.4629, -9365.4395, -9350.5537,\n",
    "        -9369.2393, -9354.9102, -9365.7852, -9362.5439, -9376.7031, -9364.3320,\n",
    "        -9358.4434, -9361.7158, -9369.6777, -9369.8379, -9362.5957, -9358.8223,\n",
    "        -9348.4648, -9368.5898, -9364.6758, -9351.3281, -9362.1172, -9366.7002,\n",
    "        -9360.9492, -9370.4033,  -294.0810, -9365.3457, -9370.8672, -9367.4395,\n",
    "        -9364.7949, -9352.8047, -9363.1396, -9371.6436, -9367.4395, -9360.9492,\n",
    "        -9370.6143, -9361.0762, -9369.9551, -9364.2383])"
   ]
  },
  {
   "cell_type": "code",
   "execution_count": 6,
   "id": "29c0d3fa",
   "metadata": {},
   "outputs": [],
   "source": [
    "ratio = torch.exp(log_probs - log_probs_old)"
   ]
  },
  {
   "cell_type": "code",
   "execution_count": 7,
   "id": "e359f56b",
   "metadata": {},
   "outputs": [
    {
     "data": {
      "text/plain": [
       "tensor([   inf,    inf,    inf,    inf,    inf,    inf,    inf,    inf,    inf,\n",
       "           inf,    inf,    inf,    inf,    inf,    inf,    inf,    inf,    inf,\n",
       "           inf,    inf,    inf,    inf,    inf,    inf,    inf,    inf,    inf,\n",
       "           inf,    inf,    inf,    inf,    inf,    inf,    inf,    inf,    inf,\n",
       "           inf,    inf,    inf,    inf,    inf,    inf,    inf,    inf,    inf,\n",
       "           inf,    inf,    inf,    inf,    inf,    inf,    inf, 0.0004,    inf,\n",
       "           inf,    inf,    inf,    inf,    inf,    inf,    inf,    inf,    inf,\n",
       "           inf,    inf,    inf,    inf,    inf,    inf,    inf,    inf,    inf,\n",
       "           inf,    inf,    inf,    inf,    inf,    inf,    inf,    inf,    inf,\n",
       "           inf,    inf,    inf,    inf,    inf,    inf,    inf,    inf,    inf,\n",
       "           inf,    inf,    inf,    inf,    inf,    inf,    inf,    inf,    inf,\n",
       "           inf,    inf,    inf,    inf,    inf,    inf,    inf,    inf,    inf,\n",
       "           inf,    inf,    inf,    inf,    inf,    inf,    inf,    inf,    inf,\n",
       "           inf,    inf,    inf,    inf,    inf,    inf,    inf,    inf,    inf,\n",
       "           inf,    inf,    inf,    inf,    inf,    inf,    inf,    inf,    inf,\n",
       "           inf,    inf,    inf,    inf,    inf,    inf,    inf,    inf,    inf,\n",
       "           inf,    inf,    inf,    inf,    inf,    inf,    inf,    inf,    inf,\n",
       "           inf,    inf,    inf,    inf,    inf,    inf,    inf,    inf,    inf,\n",
       "           inf,    inf, 0.0002,    inf,    inf,    inf,    inf,    inf,    inf,\n",
       "           inf,    inf,    inf,    inf,    inf,    inf,    inf,    inf,    inf,\n",
       "           inf,    inf,    inf,    inf,    inf,    inf,    inf,    inf,    inf,\n",
       "           inf,    inf,    inf,    inf,    inf,    inf,    inf,    inf,    inf,\n",
       "           inf,    inf,    inf,    inf,    inf,    inf,    inf,    inf,    inf,\n",
       "           inf,    inf,    inf,    inf,    inf,    inf,    inf,    inf,    inf,\n",
       "           inf,    inf,    inf,    inf,    inf,    inf,    inf,    inf,    inf,\n",
       "           inf,    inf,    inf,    inf,    inf,    inf,    inf,    inf,    inf,\n",
       "           inf,    inf,    inf,    inf,    inf,    inf,    inf,    inf, 0.0002,\n",
       "           inf,    inf,    inf,    inf,    inf,    inf,    inf,    inf,    inf,\n",
       "           inf,    inf,    inf,    inf])"
      ]
     },
     "execution_count": 7,
     "metadata": {},
     "output_type": "execute_result"
    }
   ],
   "source": [
    "ratio"
   ]
  },
  {
   "cell_type": "code",
   "execution_count": 14,
   "id": "45a03e6d",
   "metadata": {},
   "outputs": [],
   "source": [
    "test = [1] * 128 + [-1] * 128"
   ]
  },
  {
   "cell_type": "code",
   "execution_count": 19,
   "id": "7b22e97a",
   "metadata": {},
   "outputs": [],
   "source": [
    "ratio = ratio * torch.Tensor(test)"
   ]
  },
  {
   "cell_type": "code",
   "execution_count": 9,
   "id": "3d151b2a",
   "metadata": {},
   "outputs": [],
   "source": [
    "c_ratio = torch.clamp(ratio, 1-0.2, 1+0.2)"
   ]
  },
  {
   "cell_type": "code",
   "execution_count": 20,
   "id": "6e5eaf3d",
   "metadata": {},
   "outputs": [
    {
     "data": {
      "text/plain": [
       "tensor([ 1.2000e+00,  1.2000e+00,  1.2000e+00,  1.2000e+00,  1.2000e+00,\n",
       "         1.2000e+00,  1.2000e+00,  1.2000e+00,  1.2000e+00,  1.2000e+00,\n",
       "         1.2000e+00,  1.2000e+00,  1.2000e+00,  1.2000e+00,  1.2000e+00,\n",
       "         1.2000e+00,  1.2000e+00,  1.2000e+00,  1.2000e+00,  1.2000e+00,\n",
       "         1.2000e+00,  1.2000e+00,  1.2000e+00,  1.2000e+00,  1.2000e+00,\n",
       "         1.2000e+00,  1.2000e+00,  1.2000e+00,  1.2000e+00,  1.2000e+00,\n",
       "         1.2000e+00,  1.2000e+00,  1.2000e+00,  1.2000e+00,  1.2000e+00,\n",
       "         1.2000e+00,  1.2000e+00,  1.2000e+00,  1.2000e+00,  1.2000e+00,\n",
       "         1.2000e+00,  1.2000e+00,  1.2000e+00,  1.2000e+00,  1.2000e+00,\n",
       "         1.2000e+00,  1.2000e+00,  1.2000e+00,  1.2000e+00,  1.2000e+00,\n",
       "         1.2000e+00,  1.2000e+00,  3.9065e-04,  1.2000e+00,  1.2000e+00,\n",
       "         1.2000e+00,  1.2000e+00,  1.2000e+00,  1.2000e+00,  1.2000e+00,\n",
       "         1.2000e+00,  1.2000e+00,  1.2000e+00,  1.2000e+00,  1.2000e+00,\n",
       "         1.2000e+00,  1.2000e+00,  1.2000e+00,  1.2000e+00,  1.2000e+00,\n",
       "         1.2000e+00,  1.2000e+00,  1.2000e+00,  1.2000e+00,  1.2000e+00,\n",
       "         1.2000e+00,  1.2000e+00,  1.2000e+00,  1.2000e+00,  1.2000e+00,\n",
       "         1.2000e+00,  1.2000e+00,  1.2000e+00,  1.2000e+00,  1.2000e+00,\n",
       "         1.2000e+00,  1.2000e+00,  1.2000e+00,  1.2000e+00,  1.2000e+00,\n",
       "         1.2000e+00,  1.2000e+00,  1.2000e+00,  1.2000e+00,  1.2000e+00,\n",
       "         1.2000e+00,  1.2000e+00,  1.2000e+00,  1.2000e+00,  1.2000e+00,\n",
       "         1.2000e+00,  1.2000e+00,  1.2000e+00,  1.2000e+00,  1.2000e+00,\n",
       "         1.2000e+00,  1.2000e+00,  1.2000e+00,  1.2000e+00,  1.2000e+00,\n",
       "         1.2000e+00,  1.2000e+00,  1.2000e+00,  1.2000e+00,  1.2000e+00,\n",
       "         1.2000e+00,  1.2000e+00,  1.2000e+00,  1.2000e+00,  1.2000e+00,\n",
       "         1.2000e+00,  1.2000e+00,  1.2000e+00,  1.2000e+00,  1.2000e+00,\n",
       "         1.2000e+00,  1.2000e+00,  1.2000e+00,        -inf,        -inf,\n",
       "               -inf,        -inf,        -inf,        -inf,        -inf,\n",
       "               -inf,        -inf,        -inf,        -inf,        -inf,\n",
       "               -inf,        -inf,        -inf,        -inf,        -inf,\n",
       "               -inf,        -inf,        -inf,        -inf,        -inf,\n",
       "               -inf,        -inf,        -inf,        -inf,        -inf,\n",
       "               -inf,        -inf,        -inf,        -inf,        -inf,\n",
       "               -inf,        -inf,        -inf,        -inf, -2.4141e-04,\n",
       "               -inf,        -inf,        -inf,        -inf,        -inf,\n",
       "               -inf,        -inf,        -inf,        -inf,        -inf,\n",
       "               -inf,        -inf,        -inf,        -inf,        -inf,\n",
       "               -inf,        -inf,        -inf,        -inf,        -inf,\n",
       "               -inf,        -inf,        -inf,        -inf,        -inf,\n",
       "               -inf,        -inf,        -inf,        -inf,        -inf,\n",
       "               -inf,        -inf,        -inf,        -inf,        -inf,\n",
       "               -inf,        -inf,        -inf,        -inf,        -inf,\n",
       "               -inf,        -inf,        -inf,        -inf,        -inf,\n",
       "               -inf,        -inf,        -inf,        -inf,        -inf,\n",
       "               -inf,        -inf,        -inf,        -inf,        -inf,\n",
       "               -inf,        -inf,        -inf,        -inf,        -inf,\n",
       "               -inf,        -inf,        -inf,        -inf,        -inf,\n",
       "               -inf,        -inf,        -inf,        -inf,        -inf,\n",
       "               -inf,        -inf,        -inf,        -inf,        -inf,\n",
       "               -inf,        -inf, -2.4141e-04,        -inf,        -inf,\n",
       "               -inf,        -inf,        -inf,        -inf,        -inf,\n",
       "               -inf,        -inf,        -inf,        -inf,        -inf,\n",
       "               -inf])"
      ]
     },
     "execution_count": 20,
     "metadata": {},
     "output_type": "execute_result"
    }
   ],
   "source": [
    "torch.min(ratio, c_ratio)"
   ]
  },
  {
   "cell_type": "code",
   "execution_count": 12,
   "id": "19d531de",
   "metadata": {},
   "outputs": [
    {
     "ename": "NameError",
     "evalue": "name 'inf' is not defined",
     "output_type": "error",
     "traceback": [
      "\u001b[0;31m---------------------------------------------------------------------------\u001b[0m",
      "\u001b[0;31mNameError\u001b[0m                                 Traceback (most recent call last)",
      "\u001b[0;32m/tmp/ipykernel_1707178/2971294081.py\u001b[0m in \u001b[0;36m<module>\u001b[0;34m\u001b[0m\n\u001b[0;32m----> 1\u001b[0;31m policy_loss_1 = torch.Tensor([    inf,    -inf,     inf,     inf,    -inf,     inf,     inf,     inf,\n\u001b[0m\u001b[1;32m      2\u001b[0m             \u001b[0minf\u001b[0m\u001b[0;34m,\u001b[0m    \u001b[0;34m-\u001b[0m\u001b[0minf\u001b[0m\u001b[0;34m,\u001b[0m     \u001b[0minf\u001b[0m\u001b[0;34m,\u001b[0m     \u001b[0minf\u001b[0m\u001b[0;34m,\u001b[0m     \u001b[0minf\u001b[0m\u001b[0;34m,\u001b[0m     \u001b[0minf\u001b[0m\u001b[0;34m,\u001b[0m    \u001b[0;34m-\u001b[0m\u001b[0minf\u001b[0m\u001b[0;34m,\u001b[0m     \u001b[0minf\u001b[0m\u001b[0;34m,\u001b[0m\u001b[0;34m\u001b[0m\u001b[0;34m\u001b[0m\u001b[0m\n\u001b[1;32m      3\u001b[0m            \u001b[0;34m-\u001b[0m\u001b[0minf\u001b[0m\u001b[0;34m,\u001b[0m    \u001b[0;34m-\u001b[0m\u001b[0minf\u001b[0m\u001b[0;34m,\u001b[0m    \u001b[0;34m-\u001b[0m\u001b[0minf\u001b[0m\u001b[0;34m,\u001b[0m     \u001b[0minf\u001b[0m\u001b[0;34m,\u001b[0m    \u001b[0;34m-\u001b[0m\u001b[0minf\u001b[0m\u001b[0;34m,\u001b[0m    \u001b[0;34m-\u001b[0m\u001b[0minf\u001b[0m\u001b[0;34m,\u001b[0m    \u001b[0;34m-\u001b[0m\u001b[0minf\u001b[0m\u001b[0;34m,\u001b[0m     \u001b[0minf\u001b[0m\u001b[0;34m,\u001b[0m\u001b[0;34m\u001b[0m\u001b[0;34m\u001b[0m\u001b[0m\n\u001b[1;32m      4\u001b[0m             \u001b[0minf\u001b[0m\u001b[0;34m,\u001b[0m     \u001b[0minf\u001b[0m\u001b[0;34m,\u001b[0m    \u001b[0;34m-\u001b[0m\u001b[0minf\u001b[0m\u001b[0;34m,\u001b[0m     \u001b[0minf\u001b[0m\u001b[0;34m,\u001b[0m     \u001b[0minf\u001b[0m\u001b[0;34m,\u001b[0m     \u001b[0minf\u001b[0m\u001b[0;34m,\u001b[0m     \u001b[0minf\u001b[0m\u001b[0;34m,\u001b[0m    \u001b[0;34m-\u001b[0m\u001b[0minf\u001b[0m\u001b[0;34m,\u001b[0m\u001b[0;34m\u001b[0m\u001b[0;34m\u001b[0m\u001b[0m\n\u001b[1;32m      5\u001b[0m             \u001b[0minf\u001b[0m\u001b[0;34m,\u001b[0m     \u001b[0minf\u001b[0m\u001b[0;34m,\u001b[0m    \u001b[0;34m-\u001b[0m\u001b[0minf\u001b[0m\u001b[0;34m,\u001b[0m     \u001b[0minf\u001b[0m\u001b[0;34m,\u001b[0m    \u001b[0;34m-\u001b[0m\u001b[0minf\u001b[0m\u001b[0;34m,\u001b[0m     \u001b[0minf\u001b[0m\u001b[0;34m,\u001b[0m    \u001b[0;34m-\u001b[0m\u001b[0minf\u001b[0m\u001b[0;34m,\u001b[0m     \u001b[0minf\u001b[0m\u001b[0;34m,\u001b[0m\u001b[0;34m\u001b[0m\u001b[0;34m\u001b[0m\u001b[0m\n",
      "\u001b[0;31mNameError\u001b[0m: name 'inf' is not defined"
     ]
    }
   ],
   "source": [
    "policy_loss_1 = torch.Tensor([    inf,    -inf,     inf,     inf,    -inf,     inf,     inf,     inf,\n",
    "            inf,    -inf,     inf,     inf,     inf,     inf,    -inf,     inf,\n",
    "           -inf,    -inf,    -inf,     inf,    -inf,    -inf,    -inf,     inf,\n",
    "            inf,     inf,    -inf,     inf,     inf,     inf,     inf,    -inf,\n",
    "            inf,     inf,    -inf,     inf,    -inf,     inf,    -inf,     inf,\n",
    "            inf,    -inf,    -inf,    -inf,    -inf,    -inf,    -inf,     inf,\n",
    "            inf,    -inf,    -inf,    -inf,  0.0003,    -inf,     inf,     inf,\n",
    "           -inf,     inf,     inf,     inf,     inf,    -inf,    -inf,    -inf,\n",
    "           -inf,     inf,     inf,     inf,     inf,     inf,     inf,     inf,\n",
    "           -inf,     inf,     inf,     inf,     inf,    -inf,    -inf,    -inf,\n",
    "           -inf,    -inf,     inf,     inf,    -inf,     inf,    -inf,     inf,\n",
    "            inf,     inf,     inf,    -inf,     inf,    -inf,     inf,     inf,\n",
    "            inf,    -inf,     inf,    -inf,    -inf,    -inf,    -inf,     inf,\n",
    "           -inf,    -inf,     inf,    -inf,    -inf,    -inf,     inf,     inf,\n",
    "            inf,    -inf,     inf,     inf,     inf,    -inf,    -inf,     inf,\n",
    "            inf,    -inf,    -inf,     inf,    -inf,     inf,     inf,     inf,\n",
    "            inf,     inf,     inf,     inf,    -inf,    -inf,    -inf,     inf,\n",
    "            inf,    -inf,    -inf,     inf,     inf,     inf,    -inf,     inf,\n",
    "            inf,     inf,     inf,     inf,     inf,     inf,    -inf,     inf,\n",
    "            inf,     inf,     inf,     inf,     inf,     inf,     inf,     inf,\n",
    "            inf,    -inf,     inf,    -inf, -0.0010,     inf,     inf,     inf,\n",
    "            inf,     inf,     inf,     inf,     inf,     inf,     inf,     inf,\n",
    "            inf,     inf,     inf,     inf,    -inf,     inf,     inf,    -inf,\n",
    "            inf,     inf,     inf,    -inf,     inf,     inf,     inf,     inf,\n",
    "            inf,    -inf,     inf,     inf,     inf,     inf,     inf,     inf,\n",
    "            inf,     inf,     inf,     inf,     inf,    -inf,    -inf,     inf,\n",
    "           -inf,     inf,     inf,    -inf,     inf,     inf,     inf,    -inf,\n",
    "            inf,    -inf,     inf,     inf,     inf,     inf,     inf,     inf,\n",
    "            inf,    -inf,     inf,     inf,    -inf,    -inf,     inf,     inf,\n",
    "           -inf,    -inf,     inf,     inf,     inf,    -inf,     inf,     inf,\n",
    "            inf,    -inf, -0.0010,     inf,     inf,     inf,    -inf,     inf,\n",
    "            inf,    -inf,     inf,     inf,     inf,    -inf,    -inf,     inf])"
   ]
  },
  {
   "cell_type": "code",
   "execution_count": null,
   "id": "5a168347",
   "metadata": {},
   "outputs": [],
   "source": []
  }
 ],
 "metadata": {
  "kernelspec": {
   "display_name": "Python 3 (ipykernel)",
   "language": "python",
   "name": "python3"
  },
  "language_info": {
   "codemirror_mode": {
    "name": "ipython",
    "version": 3
   },
   "file_extension": ".py",
   "mimetype": "text/x-python",
   "name": "python",
   "nbconvert_exporter": "python",
   "pygments_lexer": "ipython3",
   "version": "3.7.11"
  }
 },
 "nbformat": 4,
 "nbformat_minor": 5
}
